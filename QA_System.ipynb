{
 "cells": [
  {
   "cell_type": "markdown",
   "metadata": {},
   "source": [
    "Importing neseccary libraries"
   ]
  },
  {
   "cell_type": "code",
   "execution_count": 1,
   "metadata": {},
   "outputs": [],
   "source": [
    "import os \n",
    "from langchain_groq import ChatGroq"
   ]
  },
  {
   "cell_type": "code",
   "execution_count": 3,
   "metadata": {},
   "outputs": [
    {
     "name": "stdout",
     "output_type": "stream",
     "text": [
      "বাংলাদেশের স্বাধীনতা যুদ্ধ শেষ হওয়ার পর প্রথম প্রধানমন্ত্রী হয়েছিলেন তাজউদ্দিন আহমদ।\n"
     ]
    }
   ],
   "source": [
    "# set up the chatgroq\n",
    "\n",
    "llm = ChatGroq(\n",
    "    temperature=1,\n",
    "    groq_api_key = os.environ.get('GROQ_API'),\n",
    "    model = 'llama-3.1-70b-versatile'\n",
    ")\n",
    "\n",
    "response = llm.invoke(\"বাংলাদেশের প্রথম প্রধানমন্ত্রী হচ্ছেন ...\")\n",
    "print(response.content)"
   ]
  },
  {
   "cell_type": "code",
   "execution_count": null,
   "metadata": {},
   "outputs": [],
   "source": []
  }
 ],
 "metadata": {
  "kernelspec": {
   "display_name": "Python 3",
   "language": "python",
   "name": "python3"
  },
  "language_info": {
   "codemirror_mode": {
    "name": "ipython",
    "version": 3
   },
   "file_extension": ".py",
   "mimetype": "text/x-python",
   "name": "python",
   "nbconvert_exporter": "python",
   "pygments_lexer": "ipython3",
   "version": "3.12.7"
  }
 },
 "nbformat": 4,
 "nbformat_minor": 2
}
