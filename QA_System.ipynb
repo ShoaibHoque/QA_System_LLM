{
 "cells": [
  {
   "cell_type": "markdown",
   "metadata": {},
   "source": [
    "Importing neseccary libraries"
   ]
  },
  {
   "cell_type": "code",
   "execution_count": 1,
   "metadata": {},
   "outputs": [],
   "source": [
    "import os \n",
    "from langchain_groq import ChatGroq"
   ]
  },
  {
   "cell_type": "code",
   "execution_count": 3,
   "metadata": {},
   "outputs": [
    {
     "name": "stdout",
     "output_type": "stream",
     "text": [
      "বাংলাদেশের স্বাধীনতা যুদ্ধ শেষ হওয়ার পর প্রথম প্রধানমন্ত্রী হয়েছিলেন তাজউদ্দিন আহমদ।\n"
     ]
    }
   ],
   "source": [
    "# set up the chatgroq\n",
    "\n",
    "llm = ChatGroq(\n",
    "    temperature=1,\n",
    "    groq_api_key = os.environ.get('GROQ_API'),\n",
    "    model = 'llama-3.1-70b-versatile'\n",
    ")\n",
    "\n",
    "response = llm.invoke(\"বাংলাদেশের প্রথম প্রধানমন্ত্রী হচ্ছেন ...\")\n",
    "print(response.content)"
   ]
  },
  {
   "cell_type": "markdown",
   "metadata": {},
   "source": [
    "get the text of my resume to fine tune with this data"
   ]
  },
  {
   "cell_type": "code",
   "execution_count": null,
   "metadata": {},
   "outputs": [],
   "source": [
    "resume_content = \"\"\"\n",
    "Name: Shoaib Hoque\n",
    "Contact: shoaibhoque@gmail.com, +880 1681855181\n",
    "LinkedIn: https://www.linkedin.com/in/shoaib-hoque-2bb20314b/\n",
    "GitHub: https://github.com/ShoaibHoque\n",
    "\n",
    "OBJECTIVE:\n",
    "With a solid foundation in Python programming, data analysis, and model building, I am a certified data scientist passionate about transforming data into actionable insights.\n",
    "\n",
    "WORK EXPERIENCE:\n",
    "1. Data Science Consultant at Rubixe (from Oct 2023 to May 2024)\n",
    "   - Achieved 95% accuracy in ML models like Decision Trees and XGBoost.\n",
    "   - Delivered projects on Logistic Regression and Multiple Linear Regression.\n",
    "\n",
    "2. Data Analytics Trainee at NOGOR Solutions Ltd. (from May 2023 to Oct 2023)\n",
    "   - Developed predictive models and optimized data processes.\n",
    "   - Designed custom Python scripts for advanced analysis.\n",
    "\n",
    "3. Data Science Intern at Somikoron Ai (from Jan 2024 to Jun 2024)\n",
    "   - Built a News Alert API Handler with NLP.\n",
    "   - Performed web scraping using Beautiful Soup and Selenium.\n",
    "\n",
    "EDUCATION:\n",
    "1. Post Graduate Diploma in Data Science, United International University, Dhaka (from Jan 2023 to Oct 2023)\n",
    "2. Bachelor in Science - Computer Science Engineering, Shanto Mariam University of Creative Technology (from May 2018 to Dec 2022)\n",
    "\n",
    "CERTIFICATIONS:\n",
    "- Google Advanced Data Analytics Professional Certificate\n",
    "- IBM Data Science Professional Certificate\n",
    "- IABAC Certified Data Scientist\n",
    "- Datamites Certified Data Scientist\n",
    "\n",
    "TECHNICAL SKILLS:\n",
    "- Python, SQL, Machine Learning (Regression, Classification, ANN, CNN, LSTM, NLP, LLM)\n",
    "- Data Visualization (Power BI, Tableau)\n",
    "- Web Scraping (BeautifulSoup, Selenium)\n",
    "\n",
    "PROJECTS:\n",
    "1. ITSM Process Improvement (Rubixe Project)\n",
    "   - Predicted high-priority tickets using ML algorithms with 89% accuracy.\n",
    "\n",
    "2. Employee Performance Analysis (IABAC Project)\n",
    "   - Achieved 93.75% accuracy in employee performance predictions.\n",
    "\n",
    "3. Falcon 9 Landing Prediction (IBM Project)\n",
    "   - Developed models with 83.33% accuracy for landing outcome predictions.\n",
    "\n",
    "LANGUAGES:\n",
    "- English (Professional Working Proficiency)\n",
    "- Bengali (Native Proficiency)\n",
    "- Arabic (Professional Proficiency)\n",
    "\n",
    "VOLUNTEERING ACTIVITIES:\n",
    "- Organized programs at SMUCT CSE Dept for four years.\n",
    "- Cultural and Marketing Organizer at Shanto Mariam University CSE Committee (from 2019 to 2021).\n",
    "- Delivered stage performances and presentations.\n",
    "- Created and shared educational content on data science (demo links available upon request).\n",
    "- Winner, International Center for Bengali Music (2020)\n",
    "- First place, Poster Presentation, SMUCT IT Festival (2019).\n",
    "- Runners-up, Programming Contest, SMUCT IT Festival (2019).\n",
    "\"\"\"\n",
    "\n",
    "# Save to a text file\n",
    "with open(\"resume.txt\", \"w\", encoding=\"utf-8\") as file:\n",
    "    file.write(resume_content)\n"
   ]
  }
 ],
 "metadata": {
  "kernelspec": {
   "display_name": "Python 3",
   "language": "python",
   "name": "python3"
  },
  "language_info": {
   "codemirror_mode": {
    "name": "ipython",
    "version": 3
   },
   "file_extension": ".py",
   "mimetype": "text/x-python",
   "name": "python",
   "nbconvert_exporter": "python",
   "pygments_lexer": "ipython3",
   "version": "3.12.7"
  }
 },
 "nbformat": 4,
 "nbformat_minor": 2
}
